{
 "cells": [
  {
   "cell_type": "markdown",
   "metadata": {},
   "source": [
    "# Batch Job Analytics -- Master Batch Job - Elapsed Time Prediction\n",
    "\n",
    "1. Read joined widetable data file for Master Batch Job, which generated from  \"2_BatchJob_MBJ_DataExploration.ipynb\"\n",
    "2. Seperate data into train & test parts\n",
    "3. Train model with 3 different combinations\n",
    "4. Emsemble 3 algorithm results as final result\n",
    "5. Visualization and evaluation of test result\n"
   ]
  },
  {
   "cell_type": "markdown",
   "metadata": {},
   "source": [
    "### Define parameters\n",
    "Define parameters indicate input path, file, split date and target column for prediction<p>\n",
    "P_FILE_PATH: path where input file widetable_MBJ.csv located<br>\n",
    "P_JOBNAME: job name, here use \"MBJ\" for Master Batch Job data<br>\n",
    "P_FILENAME: the file with data ready for prediction <br>\n",
    "P_SPLIT_DATE: the date to split data into train data and test data, before it for train, the date equal and later than it is for test<br>\n",
    "P_TARGET_NAME: the column name in data for predict <br>\n",
    "\n",
    "_Usage:<br>\n",
    "When you try to use this notebook to predict other date or other jobs/applications elapsed time or even other metrics, you could change split date, data file name,  jobname, target name here, according to your prepared input data file. _\n"
   ]
  },
  {
   "cell_type": "code",
   "execution_count": 1,
   "metadata": {
    "collapsed": true
   },
   "outputs": [],
   "source": [
    "P_FILE_PATH = ''\n",
    "P_JOBNAME = 'MBJ'\n",
    "P_FILENAME = P_FILE_PATH+'widetable_'+P_JOBNAME+'.csv'\n",
    "P_SPLIT_DATE = '2016-11-01'\n",
    "P_TARGET_NAME = 'ELAPSED_MINUTE'"
   ]
  },
  {
   "cell_type": "markdown",
   "metadata": {},
   "source": [
    "### Import necessary packages and define 3 basic functions \n",
    " - Definition of function __*\"CalMape(actual, pred)\"*__\n",
    "     - function calculates Mean Absolute Percentage Error between actual value and predicted value\n",
    " - Definition of function __*\"Eda(dataframe)\"*__\n",
    "     - function prints essential characteristics of a data frame\n",
    " - Definition of function __*\"ConvertDate(s)\"*__\n",
    "     - function formats data to *'%Y-%m-%d'*"
   ]
  },
  {
   "cell_type": "code",
   "execution_count": 2,
   "metadata": {
    "collapsed": true
   },
   "outputs": [],
   "source": [
    "import warnings\n",
    "warnings.filterwarnings(\"ignore\")  #would not show warning message\n",
    "\n",
    "\n",
    "import pandas as pd\n",
    "import numpy as np\n",
    "\n",
    "import matplotlib.pyplot as plt\n",
    "%matplotlib inline\n",
    "\n",
    "\n",
    "def CalMape(actual, pred):\n",
    "    MAPE = []\n",
    "    PRED = pd.DataFrame(pred)   \n",
    "    for i in range(len(actual)):\n",
    "        if actual.values[i] <= 1:\n",
    "            if actual.values[i]==0:\n",
    "                if (PRED.values[i]==0) or (PRED.values[i]==-1):\n",
    "                    L_PE = 0\n",
    "                else: L_PE = 0\n",
    "            else:\n",
    "                L_PE = np.abs(actual.values[i] - PRED.values[i]) / actual.values[i]\n",
    "            L_PE = CutoffValue(L_PE,1,0)\n",
    "        else:\n",
    "            L_PE = np.abs(actual.values[i] - PRED.values[i]) / actual.values[i]\n",
    "        MAPE.append(L_PE)\n",
    "    return np.mean(MAPE)\n",
    "    \n",
    "\n",
    "# define a basic function for Exploratory Data Analysis \n",
    "def Eda(dataframe):\n",
    "    print('----------  Running Basic Exploratory Data Analysis ------------')\n",
    "    print('---------------------- [  Data Head -5  ] ----------------------')\n",
    "    print(dataframe.head())\n",
    "    print('---------------------- [Data Description] ----------------------')\n",
    "    print(dataframe.shape)\n",
    "    print(dataframe.describe())\n",
    "    \n",
    "def ConvertDate(s):\n",
    "    return pd.to_datetime(s,format='%Y-%m-%d')\n"
   ]
  },
  {
   "cell_type": "markdown",
   "metadata": {},
   "source": [
    "## Step 1: Read input data for Master Batch Job elapsed time prediction\n",
    "\n",
    "Get project context \n",
    "1. Move text edit caret into begining of below cell\n",
    "2. Click the button in upright menu, with hint of \"Create new\"\n",
    "3. Select \"Insert project context\"\n",
    "4. Use new generated code to replace old code in the cell"
   ]
  },
  {
   "cell_type": "code",
   "execution_count": 3,
   "metadata": {
    "collapsed": true
   },
   "outputs": [],
   "source": [
    "#!!Notes:# Please Prepare the project environment manualy,  click the pull-down menu (v) of the Create new (+) tool and select \"Insert project context\".\n",
    "########## The project context should like this:\n",
    "########## pc = ProjectContext.ProjectContext('Batch_Job_Analytics', '2_BatchJob_MBJ_DataExploration', '***', 'xx.xx.xx.xx')"
   ]
  },
  {
   "cell_type": "markdown",
   "metadata": {},
   "source": [
    "\n",
    " - Definition of column names for the data\n",
    " - Data import from .csv file\n",
    " - Data preprocessing"
   ]
  },
  {
   "cell_type": "code",
   "execution_count": 4,
   "metadata": {
    "collapsed": true
   },
   "outputs": [],
   "source": [
    "FILE_PATH = dsx_core_utils.get_local_dataset(pc, 'widetable_MBJ.csv')\n",
    "P_FILENAME = FILE_PATH"
   ]
  },
  {
   "cell_type": "code",
   "execution_count": 5,
   "metadata": {
    "collapsed": false
   },
   "outputs": [
    {
     "name": "stdout",
     "output_type": "stream",
     "text": [
      "<class 'pandas.core.frame.DataFrame'>\n",
      "RangeIndex: 365 entries, 0 to 364\n",
      "Data columns (total 29 columns):\n",
      "ELAPSED_MINUTE    365 non-null int64\n",
      "DATE              365 non-null datetime64[ns]\n",
      "YEAR              365 non-null object\n",
      "MONTH             365 non-null object\n",
      "DAY               365 non-null object\n",
      "WEEKDAY           365 non-null object\n",
      "IS_WEEKEND        365 non-null object\n",
      "IS_MONTHEND       365 non-null object\n",
      "NEXTDAY           365 non-null object\n",
      "LASTDAY           365 non-null object\n",
      "REFER_DATE        365 non-null object\n",
      "IS_HOLIDAY        365 non-null object\n",
      "IS_SPECIALDAY     365 non-null object\n",
      "BT01              365 non-null float64\n",
      "BT02              365 non-null float64\n",
      "BT03              365 non-null float64\n",
      "BT04              365 non-null float64\n",
      "BT05              365 non-null float64\n",
      "BT06              365 non-null float64\n",
      "BT07              365 non-null float64\n",
      "BT08              365 non-null float64\n",
      "BT09              365 non-null float64\n",
      "BT10              365 non-null float64\n",
      "BT11              365 non-null float64\n",
      "BT12              365 non-null float64\n",
      "BT13              365 non-null float64\n",
      "BT14              365 non-null float64\n",
      "BT15              365 non-null float64\n",
      "BT16              365 non-null float64\n",
      "dtypes: datetime64[ns](1), float64(16), int64(1), object(11)\n",
      "memory usage: 82.8+ KB\n",
      "None\n"
     ]
    }
   ],
   "source": [
    "COLS = ['ELAPSED_MINUTE', 'DATE', 'YEAR', 'MONTH', 'DAY',\n",
    "       'WEEKDAY', 'IS_WEEKEND', 'IS_MONTHEND', 'NEXTDAY', 'LASTDAY',\n",
    "       'REFER_DATE', 'IS_HOLIDAY', 'IS_SPECIALDAY', 'BT01', 'BT02', 'BT03',\n",
    "       'BT04', 'BT05', 'BT06', 'BT07', 'BT08', 'BT09', 'BT10', 'BT11', 'BT12',\n",
    "       'BT13', 'BT14', 'BT15', 'BT16']\n",
    "\n",
    "WIDETABLE = pd.read_csv(P_FILENAME,encoding=\"ISO-8859-1\",\n",
    "                        dtype={'YEAR':str,'MONTH':str,'DAY':str,'WEEKDAY':str,\n",
    "                               'IS_WEEKEND':str,'IS_MONTHEND':str,'IS_HOLIDAY':str,'IS_SPECIALDAY':str},\n",
    "                        usecols=COLS,\n",
    "                        parse_dates=['DATE'])\n",
    "\n",
    "\n",
    "print(WIDETABLE.info())"
   ]
  },
  {
   "cell_type": "code",
   "execution_count": 6,
   "metadata": {
    "collapsed": false
   },
   "outputs": [
    {
     "data": {
      "text/html": [
       "<div>\n",
       "<style scoped>\n",
       "    .dataframe tbody tr th:only-of-type {\n",
       "        vertical-align: middle;\n",
       "    }\n",
       "\n",
       "    .dataframe tbody tr th {\n",
       "        vertical-align: top;\n",
       "    }\n",
       "\n",
       "    .dataframe thead th {\n",
       "        text-align: right;\n",
       "    }\n",
       "</style>\n",
       "<table border=\"1\" class=\"dataframe\">\n",
       "  <thead>\n",
       "    <tr style=\"text-align: right;\">\n",
       "      <th></th>\n",
       "      <th>ELAPSED_MINUTE</th>\n",
       "      <th>DATE</th>\n",
       "      <th>YEAR</th>\n",
       "      <th>MONTH</th>\n",
       "      <th>DAY</th>\n",
       "      <th>WEEKDAY</th>\n",
       "      <th>IS_WEEKEND</th>\n",
       "      <th>IS_MONTHEND</th>\n",
       "      <th>NEXTDAY</th>\n",
       "      <th>LASTDAY</th>\n",
       "      <th>...</th>\n",
       "      <th>BT07</th>\n",
       "      <th>BT08</th>\n",
       "      <th>BT09</th>\n",
       "      <th>BT10</th>\n",
       "      <th>BT11</th>\n",
       "      <th>BT12</th>\n",
       "      <th>BT13</th>\n",
       "      <th>BT14</th>\n",
       "      <th>BT15</th>\n",
       "      <th>BT16</th>\n",
       "    </tr>\n",
       "  </thead>\n",
       "  <tbody>\n",
       "    <tr>\n",
       "      <th>0</th>\n",
       "      <td>160</td>\n",
       "      <td>2016-01-01</td>\n",
       "      <td>2016</td>\n",
       "      <td>1</td>\n",
       "      <td>1</td>\n",
       "      <td>5</td>\n",
       "      <td>0</td>\n",
       "      <td>0</td>\n",
       "      <td>2016/1/2</td>\n",
       "      <td>2015/12/31</td>\n",
       "      <td>...</td>\n",
       "      <td>4224540.0</td>\n",
       "      <td>290870.0</td>\n",
       "      <td>8674571.0</td>\n",
       "      <td>6793745.0</td>\n",
       "      <td>1378925.0</td>\n",
       "      <td>184705.0</td>\n",
       "      <td>33585.0</td>\n",
       "      <td>3215742.0</td>\n",
       "      <td>46389.0</td>\n",
       "      <td>4826739.0</td>\n",
       "    </tr>\n",
       "    <tr>\n",
       "      <th>1</th>\n",
       "      <td>149</td>\n",
       "      <td>2016-01-02</td>\n",
       "      <td>2016</td>\n",
       "      <td>1</td>\n",
       "      <td>2</td>\n",
       "      <td>6</td>\n",
       "      <td>1</td>\n",
       "      <td>0</td>\n",
       "      <td>2016/1/3</td>\n",
       "      <td>2016/1/1</td>\n",
       "      <td>...</td>\n",
       "      <td>4029561.0</td>\n",
       "      <td>256880.0</td>\n",
       "      <td>8579600.0</td>\n",
       "      <td>6197802.0</td>\n",
       "      <td>1522222.0</td>\n",
       "      <td>170271.0</td>\n",
       "      <td>33750.0</td>\n",
       "      <td>2782242.0</td>\n",
       "      <td>36342.0</td>\n",
       "      <td>2874246.0</td>\n",
       "    </tr>\n",
       "    <tr>\n",
       "      <th>2</th>\n",
       "      <td>145</td>\n",
       "      <td>2016-01-03</td>\n",
       "      <td>2016</td>\n",
       "      <td>1</td>\n",
       "      <td>3</td>\n",
       "      <td>7</td>\n",
       "      <td>1</td>\n",
       "      <td>0</td>\n",
       "      <td>2016/1/4</td>\n",
       "      <td>2016/1/2</td>\n",
       "      <td>...</td>\n",
       "      <td>3814038.0</td>\n",
       "      <td>285607.0</td>\n",
       "      <td>8819164.0</td>\n",
       "      <td>6031757.0</td>\n",
       "      <td>1538040.0</td>\n",
       "      <td>168761.0</td>\n",
       "      <td>38897.0</td>\n",
       "      <td>2682481.0</td>\n",
       "      <td>35149.0</td>\n",
       "      <td>2651567.0</td>\n",
       "    </tr>\n",
       "    <tr>\n",
       "      <th>3</th>\n",
       "      <td>187</td>\n",
       "      <td>2016-01-04</td>\n",
       "      <td>2016</td>\n",
       "      <td>1</td>\n",
       "      <td>4</td>\n",
       "      <td>1</td>\n",
       "      <td>0</td>\n",
       "      <td>0</td>\n",
       "      <td>2016/1/5</td>\n",
       "      <td>2016/1/3</td>\n",
       "      <td>...</td>\n",
       "      <td>4270735.0</td>\n",
       "      <td>1283273.0</td>\n",
       "      <td>17654698.0</td>\n",
       "      <td>8187772.0</td>\n",
       "      <td>3033516.0</td>\n",
       "      <td>753684.0</td>\n",
       "      <td>237844.0</td>\n",
       "      <td>7216136.0</td>\n",
       "      <td>82694.0</td>\n",
       "      <td>2819131.0</td>\n",
       "    </tr>\n",
       "    <tr>\n",
       "      <th>4</th>\n",
       "      <td>164</td>\n",
       "      <td>2016-01-05</td>\n",
       "      <td>2016</td>\n",
       "      <td>1</td>\n",
       "      <td>5</td>\n",
       "      <td>2</td>\n",
       "      <td>0</td>\n",
       "      <td>0</td>\n",
       "      <td>2016/1/6</td>\n",
       "      <td>2016/1/4</td>\n",
       "      <td>...</td>\n",
       "      <td>4080801.0</td>\n",
       "      <td>1315945.0</td>\n",
       "      <td>17000050.0</td>\n",
       "      <td>7871548.0</td>\n",
       "      <td>2908877.0</td>\n",
       "      <td>560995.0</td>\n",
       "      <td>212150.0</td>\n",
       "      <td>6264452.0</td>\n",
       "      <td>75047.0</td>\n",
       "      <td>2891914.0</td>\n",
       "    </tr>\n",
       "  </tbody>\n",
       "</table>\n",
       "<p>5 rows × 29 columns</p>\n",
       "</div>"
      ],
      "text/plain": [
       "   ELAPSED_MINUTE       DATE  YEAR MONTH DAY WEEKDAY IS_WEEKEND IS_MONTHEND  \\\n",
       "0             160 2016-01-01  2016     1   1       5          0           0   \n",
       "1             149 2016-01-02  2016     1   2       6          1           0   \n",
       "2             145 2016-01-03  2016     1   3       7          1           0   \n",
       "3             187 2016-01-04  2016     1   4       1          0           0   \n",
       "4             164 2016-01-05  2016     1   5       2          0           0   \n",
       "\n",
       "    NEXTDAY     LASTDAY    ...           BT07       BT08        BT09  \\\n",
       "0  2016/1/2  2015/12/31    ...      4224540.0   290870.0   8674571.0   \n",
       "1  2016/1/3    2016/1/1    ...      4029561.0   256880.0   8579600.0   \n",
       "2  2016/1/4    2016/1/2    ...      3814038.0   285607.0   8819164.0   \n",
       "3  2016/1/5    2016/1/3    ...      4270735.0  1283273.0  17654698.0   \n",
       "4  2016/1/6    2016/1/4    ...      4080801.0  1315945.0  17000050.0   \n",
       "\n",
       "        BT10       BT11      BT12      BT13       BT14     BT15       BT16  \n",
       "0  6793745.0  1378925.0  184705.0   33585.0  3215742.0  46389.0  4826739.0  \n",
       "1  6197802.0  1522222.0  170271.0   33750.0  2782242.0  36342.0  2874246.0  \n",
       "2  6031757.0  1538040.0  168761.0   38897.0  2682481.0  35149.0  2651567.0  \n",
       "3  8187772.0  3033516.0  753684.0  237844.0  7216136.0  82694.0  2819131.0  \n",
       "4  7871548.0  2908877.0  560995.0  212150.0  6264452.0  75047.0  2891914.0  \n",
       "\n",
       "[5 rows x 29 columns]"
      ]
     },
     "execution_count": 6,
     "metadata": {},
     "output_type": "execute_result"
    }
   ],
   "source": [
    "WIDETABLE.head(5)"
   ]
  },
  {
   "cell_type": "code",
   "execution_count": 7,
   "metadata": {
    "collapsed": true
   },
   "outputs": [],
   "source": [
    "#For all columns with continuous values add a new column with logarithmic scaled values each \n",
    "CONTINUOUS_COLS = [ 'BT01', 'BT02', 'BT03',\n",
    "       'BT04', 'BT05', 'BT06', 'BT07', 'BT08', 'BT09', 'BT10', 'BT11', 'BT12',\n",
    "       'BT13', 'BT14', 'BT15', 'BT16']\n",
    "\n",
    "L_COLS = CONTINUOUS_COLS.copy()\n",
    "for col in (L_COLS):\n",
    "    col_add = col+'_ln'\n",
    "    WIDETABLE[col_add] = WIDETABLE[col].apply(lambda x: np.log(x) if x!=0 else 0)\n",
    "    CONTINUOUS_COLS.append(col_add)"
   ]
  },
  {
   "cell_type": "code",
   "execution_count": 8,
   "metadata": {
    "collapsed": true
   },
   "outputs": [],
   "source": [
    "FEATURE_LIST = ['YEAR', 'MONTH', 'DAY', \n",
    "                  'WEEKDAY', 'IS_WEEKEND', 'IS_MONTHEND',\n",
    "                'IS_HOLIDAY', 'IS_SPECIALDAY']+CONTINUOUS_COLS\n",
    "                \n",
    "TARGET_NAME = P_TARGET_NAME\n",
    "FEATURE_LIST_NUM = CONTINUOUS_COLS"
   ]
  },
  {
   "cell_type": "markdown",
   "metadata": {},
   "source": [
    "## Step 2: Split data set to train and test dataset\n",
    "- Split data set in training and test set, [2016-01-01, split_date) as training data, [split_date,next 1 month) as test data\n",
    "- Weight data instances according to their age and corralation, according to some known experience from domain experts"
   ]
  },
  {
   "cell_type": "code",
   "execution_count": 9,
   "metadata": {
    "collapsed": true
   },
   "outputs": [],
   "source": [
    "\n",
    "import datetime as dt\n",
    "from dateutil.relativedelta import relativedelta\n",
    "pd.options.mode.chained_assignment = None  # default='warn'\n",
    "\n",
    "def SplitTrainTestWithWeightSplit(widetable,split_date):\n",
    "    WIDETABLE_FRQ = widetable.copy()\n",
    "    L_DATE = pd.to_datetime(split_date)\n",
    "    L_1MONTH_AGO = (L_DATE+relativedelta(months=-1)).strftime(\"%Y-%m-%d\")\n",
    "    L_2MONTH_AGO = (L_DATE+relativedelta(months=-2)).strftime(\"%Y-%m-%d\")\n",
    "    L_3MONTH_AGO = (L_DATE+relativedelta(months=-3)).strftime(\"%Y-%m-%d\")\n",
    "    L_11MONTH_AGO = (L_DATE+relativedelta(months=-11)).strftime(\"%Y-%m-%d\")\n",
    "    L_12MONTH_AGO = (L_DATE+relativedelta(months=-12)).strftime(\"%Y-%m-%d\")\n",
    "    L_1MONTH_LATER = (L_DATE+relativedelta(months=+1)).strftime(\"%Y-%m-%d\")\n",
    "    \n",
    "    for i in range(16):\n",
    "        DF = widetable[(widetable['DATE']>=L_1MONTH_AGO) & (widetable['DATE']<split_date)]\n",
    "        DF.loc[TARGET_NAME] = DF[TARGET_NAME].apply(lambda x:x+np.random.random())\n",
    "        WIDETABLE_FRQ = WIDETABLE_FRQ.append(DF,ignore_index=True)\n",
    "    for i in range(4):\n",
    "        DF = widetable[(widetable['DATE']>=L_2MONTH_AGO) & (widetable['DATE']<L_1MONTH_AGO)]\n",
    "        DF.loc[TARGET_NAME] = DF[TARGET_NAME].apply(lambda x:x+np.random.random())\n",
    "        WIDETABLE_FRQ = WIDETABLE_FRQ.append(DF,ignore_index=True)\n",
    "    for i in range(8):\n",
    "        DF = widetable[(widetable['DATE']>=L_3MONTH_AGO) & (widetable['DATE']<L_2MONTH_AGO)]\n",
    "        DF.loc[TARGET_NAME]=DF[TARGET_NAME].apply(lambda x:x+np.random.random())\n",
    "        WIDETABLE_FRQ = WIDETABLE_FRQ.append(DF,ignore_index=True)\n",
    "    for i in range(4):            \n",
    "        DF = widetable[(widetable['DATE']>=L_12MONTH_AGO) & (widetable['DATE']<L_11MONTH_AGO)]\n",
    "        DF.loc[TARGET_NAME] = DF[TARGET_NAME].apply(lambda x:x+np.random.random())\n",
    "        WIDETABLE_FRQ = WIDETABLE_FRQ.append(DF,ignore_index=True)\n",
    "    \n",
    "    L_WT_TRAIN = WIDETABLE_FRQ[(WIDETABLE_FRQ['DATE']<split_date) & (WIDETABLE_FRQ['DATE']>='2016-01-01')]\n",
    "    L_WT_TEST = WIDETABLE_FRQ[(WIDETABLE_FRQ['DATE']<L_1MONTH_LATER) & (WIDETABLE_FRQ['DATE']>=split_date)]\n",
    "    return L_WT_TRAIN,L_WT_TEST\n",
    "\n",
    "WT_TRAIN,WT_TEST = SplitTrainTestWithWeightSplit(WIDETABLE,P_SPLIT_DATE)\n",
    "X_train = WT_TRAIN[FEATURE_LIST]\n",
    "y_train = WT_TRAIN[TARGET_NAME]\n",
    "X_test = WT_TEST[FEATURE_LIST]\n",
    "y_test = WT_TEST[TARGET_NAME]"
   ]
  },
  {
   "cell_type": "markdown",
   "metadata": {},
   "source": [
    "### Transform categorical features to one-hot encoding"
   ]
  },
  {
   "cell_type": "code",
   "execution_count": 10,
   "metadata": {
    "collapsed": false
   },
   "outputs": [
    {
     "name": "stderr",
     "output_type": "stream",
     "text": [
      "/home/mlzdev/mlz/mlz120_install_spark4/imlpython/env/ying37/lib/python3.7/site-packages/sklearn/utils/__init__.py:4: DeprecationWarning: Using or importing the ABCs from 'collections' instead of from 'collections.abc' is deprecated, and in 3.8 it will stop working\n",
      "  from collections import Sequence\n"
     ]
    },
    {
     "name": "stdout",
     "output_type": "stream",
     "text": [
      "['BT01', 'BT01_ln', 'BT02', 'BT02_ln', 'BT03', 'BT03_ln', 'BT04', 'BT04_ln', 'BT05', 'BT05_ln', 'BT06', 'BT06_ln', 'BT07', 'BT07_ln', 'BT08', 'BT08_ln', 'BT09', 'BT09_ln', 'BT10', 'BT10_ln', 'BT11', 'BT11_ln', 'BT12', 'BT12_ln', 'BT13', 'BT13_ln', 'BT14', 'BT14_ln', 'BT15', 'BT15_ln', 'BT16', 'BT16_ln', 'DAY=1', 'DAY=10', 'DAY=11', 'DAY=12', 'DAY=13', 'DAY=14', 'DAY=15', 'DAY=16', 'DAY=17', 'DAY=18', 'DAY=19', 'DAY=2', 'DAY=20', 'DAY=21', 'DAY=22', 'DAY=23', 'DAY=24', 'DAY=25', 'DAY=26', 'DAY=27', 'DAY=28', 'DAY=29', 'DAY=3', 'DAY=30', 'DAY=31', 'DAY=4', 'DAY=5', 'DAY=6', 'DAY=7', 'DAY=8', 'DAY=9', 'IS_HOLIDAY=0', 'IS_HOLIDAY=1', 'IS_MONTHEND=0', 'IS_MONTHEND=1', 'IS_SPECIALDAY=0', 'IS_WEEKEND=0', 'IS_WEEKEND=1', 'MONTH=1', 'MONTH=10', 'MONTH=2', 'MONTH=3', 'MONTH=4', 'MONTH=5', 'MONTH=6', 'MONTH=7', 'MONTH=8', 'MONTH=9', 'WEEKDAY=1', 'WEEKDAY=2', 'WEEKDAY=3', 'WEEKDAY=4', 'WEEKDAY=5', 'WEEKDAY=6', 'WEEKDAY=7', 'YEAR=2016']\n",
      "88\n"
     ]
    }
   ],
   "source": [
    "from sklearn.feature_extraction import DictVectorizer\n",
    "\n",
    "VEC = DictVectorizer(sparse=False)\n",
    "X_train = VEC.fit_transform(X_train.to_dict(orient='record'))\n",
    "X_test = VEC.transform(X_test.to_dict(orient='record'))\n",
    "\n",
    "X_train_d = pd.DataFrame(X_train,columns=VEC.feature_names_).copy()\n",
    "X_test_d = pd.DataFrame(X_test,columns=VEC.feature_names_).copy()\n",
    "\n",
    "#Print vectorized result \n",
    "print(VEC.feature_names_)\n",
    "print(len(VEC.feature_names_))"
   ]
  },
  {
   "cell_type": "markdown",
   "metadata": {},
   "source": [
    "### Standardize all numeric fields to z-score, and adjust outliner values to outliner bound\n"
   ]
  },
  {
   "cell_type": "code",
   "execution_count": 11,
   "metadata": {
    "collapsed": true
   },
   "outputs": [],
   "source": [
    "from sklearn.preprocessing import StandardScaler\n",
    "\n",
    "X_SCALER = StandardScaler()\n",
    "X_TRAIN_SS = X_SCALER.fit_transform(X_train_d[FEATURE_LIST_NUM])\n",
    "X_TEST_SS = X_SCALER.transform(X_test_d[FEATURE_LIST_NUM])\n",
    "X_TRAIN_SS = pd.DataFrame(X_TRAIN_SS, columns=FEATURE_LIST_NUM)\n",
    "X_TEST_SS = pd.DataFrame(X_TEST_SS, columns=FEATURE_LIST_NUM)\n",
    "\n",
    "def CutoffValue(x,up_bound,down_bound):\n",
    "    if x>up_bound:\n",
    "        return up_bound\n",
    "    else:\n",
    "        if x< down_bound:\n",
    "            return down_bound\n",
    "    return x\n",
    "\n",
    "\n",
    "for COL in FEATURE_LIST_NUM:\n",
    "  X_train_d[COL] = X_TRAIN_SS[COL].apply(lambda x: CutoffValue(x,3,-3))\n",
    "  X_test_d[COL] = X_TEST_SS[COL].apply(lambda x:CutoffValue(x,3,-3))\n",
    "\n",
    "L_M = y_train.mean()\n",
    "L_STD = y_train.std()\n",
    "\n",
    "\n",
    "ORIGINAL_Y_TRAIN = y_train.copy()\n",
    "ORIGINAL_Y_TEST = y_test.copy()\n",
    "\n",
    "y_train_d = y_train.apply(lambda x: CutoffValue(x,L_M+3*L_STD,L_M-3*L_STD))\n",
    "y_test_d = y_test.apply(lambda x: CutoffValue(x,L_M+3*L_STD,L_M-3*L_STD))\n",
    "\n",
    "y_train = y_train_d.copy()\n",
    "y_test = y_test_d.copy()\n",
    "\n"
   ]
  },
  {
   "cell_type": "markdown",
   "metadata": {},
   "source": [
    "## Start to build model\n",
    "\n",
    " - training dataset: X_train_d, y_train\n",
    " - test dataset:  X_test_d, y_test \n",
    " - feature selection: percentile selection\n",
    "\n",
    "Try 3 combinations from below algorithms\n",
    "\n",
    "1. Lasso\n",
    "2. Random Forest\n",
    "3. GradientBoostingRegressor\n",
    "\n",
    "Combine with methods of \n",
    "1. Feature Selection\n",
    "2. cross validation\n",
    "3. grid search for parameters\n",
    "\n",
    "Ensemble result from 3 models by mean\n",
    "\n"
   ]
  },
  {
   "cell_type": "code",
   "execution_count": 12,
   "metadata": {
    "collapsed": false
   },
   "outputs": [],
   "source": [
    "# set some calculator used in pipeline for feature selection, cross validation\n",
    "\n",
    "import shutil\n",
    "import tempfile\n",
    "import time\n",
    "\n",
    "from sklearn import feature_selection\n",
    "from sklearn.pipeline import Pipeline\n",
    "from sklearn.model_selection import GridSearchCV\n",
    "from sklearn.model_selection import KFold\n",
    "from sklearn.externals.joblib import Memory\n",
    "from sklearn import linear_model\n",
    "import matplotlib.pyplot as plt\n",
    "import numpy as np\n",
    "from sklearn.metrics import mean_squared_error, r2_score\n",
    "\n",
    "CV = KFold(3)  # cross-validation generator for model selection\n",
    "CACHEDIR = tempfile.mkdtemp()\n",
    "MEM = Memory(cachedir=CACHEDIR, verbose=False)\n",
    "\n",
    "VT = feature_selection.VarianceThreshold()\n",
    "\n",
    "# Anova univariate feature selection \n",
    "F_REGRESSION = MEM.cache(feature_selection.f_regression) \n",
    "ANOVA = feature_selection.SelectPercentile(F_REGRESSION)\n",
    "\n",
    "#RES_LOG is a dataframe to record evaluation results for various algorithm, for train dataset or test dataset\n",
    "RES_LOG = pd.DataFrame(columns=['Algorithm','Train_Test','RMSE','R2_Score','MAPE'])\n",
    "\n",
    "#res_train record predicted result for train dataset, in specific algorithm\n",
    "RES_TRAIN_PRED = pd.DataFrame(index=y_train.index)\n",
    "\n",
    "#res_test record predicted result for test dataset, in specific algorithm\n",
    "RES_TEST_PRED = pd.DataFrame(index=y_test.index)"
   ]
  },
  {
   "cell_type": "markdown",
   "metadata": {},
   "source": [
    "Definition of function __*\"EvalResult(algname,test,actual,predicted)\"*__\n",
    " - function prints and returns evaluation metrics comparing actual and predicted values"
   ]
  },
  {
   "cell_type": "code",
   "execution_count": 13,
   "metadata": {
    "collapsed": true
   },
   "outputs": [],
   "source": [
    "def EvalResult(algname,test,actual,predicted):\n",
    "    print('\\n',algname)\n",
    "    print('================================================================================================')\n",
    "    print(\"Root Mean Squared Error: %.2f\" % np.sqrt(mean_squared_error(actual, predicted)))\n",
    "     # Explained variance score: 1 is perfect prediction\n",
    "    print('R2 score: %.2f' % r2_score(actual, predicted))\n",
    "    DF = pd.DataFrame({'Actual':actual,'Predicted':predicted,'Date':test['DATE']})\n",
    "    DF.index = DF['Date']\n",
    "    DF.drop('Date',axis=1,inplace=True)\n",
    "\n",
    "    print(' MAPE=%.3f'% CalMape(actual,predicted))\n",
    "    return RES_LOG.append({'Algorithm':algname[:len(algname)-5],\n",
    "                    'Train_Test':algname[len(algname)-5:],\n",
    "                    'RMSE':np.sqrt(mean_squared_error(actual, predicted)),\n",
    "                   'R2_Score':r2_score(actual, predicted),\n",
    "                    'MAPE':CalMape(actual,predicted)},ignore_index=True)\n"
   ]
  },
  {
   "cell_type": "markdown",
   "metadata": {},
   "source": [
    "Definition of function __*\"PlotFeatureScores(scores,names)\"*__\n",
    " -  function plots the relevanz of features in sorted order"
   ]
  },
  {
   "cell_type": "code",
   "execution_count": 14,
   "metadata": {
    "collapsed": true
   },
   "outputs": [],
   "source": [
    "def PlotFeatureScores(scores,names):\n",
    "    NAMED_SCORES = zip(names, scores)  \n",
    "    SORTED_NAMED_SCORES = sorted(NAMED_SCORES, key=lambda z: z[1], reverse=True)  \n",
    "    SORTED_NAMED_SCORES = SORTED_NAMED_SCORES[0:20]\n",
    "    SORTED_NAMED_SCORES = sorted(SORTED_NAMED_SCORES, key=lambda z: z[1], reverse=False)  \n",
    "  \n",
    "    SORTED_SCORES = [each[1] for each in SORTED_NAMED_SCORES]  \n",
    "    SORTED_NAMES = [each[0] for each in SORTED_NAMED_SCORES]  \n",
    "    \n",
    "    Y_POS = np.arange(len(SORTED_NAMES))\n",
    "    \n",
    "    plt.figure(figsize=(20,12))\n",
    "    plt.barh(Y_POS,SORTED_SCORES,color='b',align='center',alpha=0.5)\n",
    "    plt.yticks(Y_POS,SORTED_NAMES)\n",
    "    plt.xlabel('Scores')\n",
    "    plt.title('Variable Importance')"
   ]
  },
  {
   "cell_type": "markdown",
   "metadata": {},
   "source": [
    "### Combination 1: Lasso Regression \n",
    "Using Grid Search Cross-Validation to get optimal parameters automatically"
   ]
  },
  {
   "cell_type": "code",
   "execution_count": 15,
   "metadata": {
    "collapsed": false
   },
   "outputs": [
    {
     "name": "stdout",
     "output_type": "stream",
     "text": [
      "{'lasso__alpha': 0.5}\n",
      "0.3387884476939787\n",
      "\n",
      " Lasso train\n",
      "================================================================================================\n",
      "Root Mean Squared Error: 13.98\n",
      "R2 score: 0.49\n",
      " MAPE=0.058\n",
      "\n",
      " Lasso test\n",
      "================================================================================================\n",
      "Root Mean Squared Error: 18.17\n",
      "R2 score: 0.19\n",
      " MAPE=0.061\n"
     ]
    }
   ],
   "source": [
    "from sklearn.linear_model import Lasso\n",
    "\n",
    "LASSO = Lasso(random_state=0)\n",
    "\n",
    "PL = Pipeline([('lasso', LASSO)])\n",
    "\n",
    "PL = GridSearchCV(PL, {'lasso__alpha': [0.1,0.5,1,10]}, cv=CV,verbose=False)\n",
    "PL.fit(X_train_d, y_train)  # set the best parameters\n",
    "Y_TRAIN_PRED = PL.predict(X_train_d)\n",
    "Y_TEST_PRED = PL.predict( X_test_d)\n",
    "\n",
    "print(PL.best_params_)\n",
    "print(PL.best_score_)\n",
    "\n",
    "RES_LOG = EvalResult('Lasso train',WT_TRAIN,y_train,Y_TRAIN_PRED)\n",
    "RES_LOG = EvalResult('Lasso test',WT_TEST,y_test,Y_TEST_PRED)\n",
    "\n",
    "#Select this combination's result as part of final result\n",
    "RES_TEST_PRED['Lasso'] = Y_TEST_PRED\n",
    "RES_TRAIN_PRED['Lasso'] = Y_TRAIN_PRED"
   ]
  },
  {
   "cell_type": "code",
   "execution_count": 16,
   "metadata": {
    "collapsed": false
   },
   "outputs": [
    {
     "data": {
      "image/png": "[encoded data removed]",
      "text/plain": [
       "<Figure size 1440x864 with 1 Axes>"
      ]
     },
     "metadata": {},
     "output_type": "display_data"
    }
   ],
   "source": [
    "# Plot Feature Importance for LASSO\n",
    "LASSO = Lasso(random_state=0,alpha=0.5)\n",
    "LASSO.fit(X_train_d,y_train)\n",
    "SCORES = np.abs(LASSO.coef_)\n",
    "SCORES4 = SCORES/np.max(SCORES)\n",
    "\n",
    "PlotFeatureScores(SCORES4,X_train_d.columns)"
   ]
  },
  {
   "cell_type": "markdown",
   "metadata": {},
   "source": [
    "### Combination 2: Random Forest Regressor\n",
    "Using Feature Selection to reduce dimension and Grid Search Cross-Validation to get optimal parameters automatically"
   ]
  },
  {
   "cell_type": "code",
   "execution_count": 17,
   "metadata": {
    "collapsed": false
   },
   "outputs": [
    {
     "name": "stdout",
     "output_type": "stream",
     "text": [
      "{'anova__percentile': 80, 'rf__max_depth': 6}\n",
      "0.7430230991997746\n",
      "\n",
      " RandomForestRegressor train\n",
      "================================================================================================\n",
      "Root Mean Squared Error: 6.83\n",
      "R2 score: 0.88\n",
      " MAPE=0.028\n",
      "\n",
      " RandomForestRegressor test\n",
      "================================================================================================\n",
      "Root Mean Squared Error: 18.38\n",
      "R2 score: 0.17\n",
      " MAPE=0.067\n"
     ]
    }
   ],
   "source": [
    "#  RandomForestRegressor\n",
    "\n",
    "from sklearn.ensemble import RandomForestRegressor\n",
    "\n",
    "RF = RandomForestRegressor(max_depth=2, random_state=0,n_estimators=10)\n",
    "\n",
    "PL = Pipeline([ ('anova', ANOVA), ('rf', RF)])\n",
    "# Select the optimal percentage of features with grid search\n",
    "PL = GridSearchCV(PL, {'anova__percentile': [30,40,50,60,70,80,90,100],'rf__max_depth':[4,5,6]}, cv=CV,verbose=False)\n",
    "PL.fit(X_train_d, y_train)  # set the best parameters\n",
    "print(PL.best_params_)\n",
    "print(PL.best_score_)\n",
    "\n",
    "Y_TRAIN_PRED = PL.predict(X_train_d)\n",
    "Y_TEST_PRED = PL.predict(X_test_d)\n",
    "\n",
    "RES_LOG = EvalResult('RandomForestRegressor train',WT_TRAIN,y_train,Y_TRAIN_PRED)\n",
    "RES_LOG = EvalResult('RandomForestRegressor test',WT_TEST,y_test,Y_TEST_PRED)\n",
    "\n",
    "#Select this combination's result as part of final result\n",
    "RES_TRAIN_PRED['RandomForest'] = Y_TRAIN_PRED\n",
    "RES_TEST_PRED['RandomForest'] = Y_TEST_PRED"
   ]
  },
  {
   "cell_type": "markdown",
   "metadata": {},
   "source": [
    "Plot feature importance for Random Forest Regressor"
   ]
  },
  {
   "cell_type": "code",
   "execution_count": 18,
   "metadata": {
    "collapsed": false,
    "scrolled": false
   },
   "outputs": [
    {
     "data": {
      "image/png": "[encoded data removed]",
      "text/plain": [
       "<Figure size 1440x864 with 1 Axes>"
      ]
     },
     "metadata": {},
     "output_type": "display_data"
    }
   ],
   "source": [
    "RF = RandomForestRegressor(max_depth=6, random_state=0,n_estimators=10)\n",
    "RF.fit(X_train_d, y_train)\n",
    "\n",
    "SCORES = RF.feature_importances_\n",
    "SCORES3 = SCORES/np.max(SCORES)\n",
    "\n",
    "PlotFeatureScores(SCORES3,X_train_d.columns)"
   ]
  },
  {
   "cell_type": "markdown",
   "metadata": {},
   "source": [
    "### Combination 3:  Feature Selection + Gradient Boosting Regressor\n",
    "Using Feature Select to reduce dimension and Grid Search Cross-Validation to get optimal parameters automatically\n"
   ]
  },
  {
   "cell_type": "code",
   "execution_count": 19,
   "metadata": {
    "collapsed": false
   },
   "outputs": [
    {
     "name": "stdout",
     "output_type": "stream",
     "text": [
      "{'anova__percentile': 70, 'gbr__max_depth': 4, 'gbr__n_estimators': 400}\n",
      "0.8121218538755749\n",
      "\n",
      " GradientBoostingRegressor train\n",
      "================================================================================================\n",
      "Root Mean Squared Error: 5.21\n",
      "R2 score: 0.93\n",
      " MAPE=0.023\n",
      "\n",
      " GradientBoostingRegressor test\n",
      "================================================================================================\n",
      "Root Mean Squared Error: 17.32\n",
      "R2 score: 0.26\n",
      " MAPE=0.066\n"
     ]
    }
   ],
   "source": [
    "from sklearn.ensemble import GradientBoostingRegressor\n",
    "\n",
    "PARAMS = {'n_estimators': 500, 'max_depth': 4, 'min_samples_split': 2,\n",
    "          'learning_rate': 0.01, 'loss': 'ls'}\n",
    "\n",
    "GBR = GradientBoostingRegressor(**PARAMS)\n",
    "\n",
    "PL = Pipeline([ ('anova', ANOVA), ('gbr', GBR)])\n",
    "PL = GridSearchCV(PL, {'anova__percentile': [60,70,80],'gbr__max_depth':[2,3,4],'gbr__n_estimators':[300,400]}, cv=CV,verbose=False)\n",
    "PL.fit(X_train_d, y_train)  # set the best parameters\n",
    "print(PL.best_params_)\n",
    "print(PL.best_score_)\n",
    "\n",
    "Y_TEST_PRED = PL.predict(X_test_d)\n",
    "Y_TRAIN_PRED = PL.predict(X_train_d)\n",
    "\n",
    "RES_LOG = EvalResult('GradientBoostingRegressor train',WT_TRAIN,y_train,Y_TRAIN_PRED)\n",
    "RES_LOG = EvalResult('GradientBoostingRegressor test',WT_TEST,y_test,Y_TEST_PRED)\n",
    "\n",
    "RES_TRAIN_PRED['GradientBoostingRegressor'] = Y_TRAIN_PRED\n",
    "RES_TEST_PRED['GradientBoostingRegressor'] = Y_TEST_PRED"
   ]
  },
  {
   "cell_type": "markdown",
   "metadata": {},
   "source": [
    "## Step 4: Visualization of prediction result \n"
   ]
  },
  {
   "cell_type": "code",
   "execution_count": 20,
   "metadata": {
    "collapsed": false
   },
   "outputs": [
    {
     "data": {
      "text/html": [
       "<div>\n",
       "<style scoped>\n",
       "    .dataframe tbody tr th:only-of-type {\n",
       "        vertical-align: middle;\n",
       "    }\n",
       "\n",
       "    .dataframe tbody tr th {\n",
       "        vertical-align: top;\n",
       "    }\n",
       "\n",
       "    .dataframe thead th {\n",
       "        text-align: right;\n",
       "    }\n",
       "</style>\n",
       "<table border=\"1\" class=\"dataframe\">\n",
       "  <thead>\n",
       "    <tr style=\"text-align: right;\">\n",
       "      <th></th>\n",
       "      <th>Lasso</th>\n",
       "      <th>RandomForest</th>\n",
       "      <th>GradientBoostingRegressor</th>\n",
       "    </tr>\n",
       "  </thead>\n",
       "  <tbody>\n",
       "    <tr>\n",
       "      <th>305</th>\n",
       "      <td>181.981313</td>\n",
       "      <td>190.006777</td>\n",
       "      <td>199.393284</td>\n",
       "    </tr>\n",
       "    <tr>\n",
       "      <th>306</th>\n",
       "      <td>179.272627</td>\n",
       "      <td>172.103785</td>\n",
       "      <td>194.709243</td>\n",
       "    </tr>\n",
       "    <tr>\n",
       "      <th>307</th>\n",
       "      <td>170.757936</td>\n",
       "      <td>178.231753</td>\n",
       "      <td>172.337522</td>\n",
       "    </tr>\n",
       "    <tr>\n",
       "      <th>308</th>\n",
       "      <td>169.429396</td>\n",
       "      <td>167.008322</td>\n",
       "      <td>171.229202</td>\n",
       "    </tr>\n",
       "    <tr>\n",
       "      <th>309</th>\n",
       "      <td>162.142985</td>\n",
       "      <td>153.606409</td>\n",
       "      <td>157.013830</td>\n",
       "    </tr>\n",
       "    <tr>\n",
       "      <th>310</th>\n",
       "      <td>153.174273</td>\n",
       "      <td>152.552997</td>\n",
       "      <td>153.062037</td>\n",
       "    </tr>\n",
       "    <tr>\n",
       "      <th>311</th>\n",
       "      <td>164.039854</td>\n",
       "      <td>167.008322</td>\n",
       "      <td>164.391569</td>\n",
       "    </tr>\n",
       "    <tr>\n",
       "      <th>312</th>\n",
       "      <td>165.730552</td>\n",
       "      <td>167.008322</td>\n",
       "      <td>167.199548</td>\n",
       "    </tr>\n",
       "    <tr>\n",
       "      <th>313</th>\n",
       "      <td>165.378774</td>\n",
       "      <td>172.207759</td>\n",
       "      <td>172.680510</td>\n",
       "    </tr>\n",
       "    <tr>\n",
       "      <th>314</th>\n",
       "      <td>176.203202</td>\n",
       "      <td>172.105176</td>\n",
       "      <td>188.772548</td>\n",
       "    </tr>\n",
       "    <tr>\n",
       "      <th>315</th>\n",
       "      <td>182.279826</td>\n",
       "      <td>182.692694</td>\n",
       "      <td>186.175625</td>\n",
       "    </tr>\n",
       "    <tr>\n",
       "      <th>316</th>\n",
       "      <td>154.991375</td>\n",
       "      <td>151.721290</td>\n",
       "      <td>157.221797</td>\n",
       "    </tr>\n",
       "    <tr>\n",
       "      <th>317</th>\n",
       "      <td>151.324086</td>\n",
       "      <td>157.945607</td>\n",
       "      <td>154.548717</td>\n",
       "    </tr>\n",
       "    <tr>\n",
       "      <th>318</th>\n",
       "      <td>174.581732</td>\n",
       "      <td>218.103075</td>\n",
       "      <td>185.692400</td>\n",
       "    </tr>\n",
       "    <tr>\n",
       "      <th>319</th>\n",
       "      <td>171.357629</td>\n",
       "      <td>174.974766</td>\n",
       "      <td>175.942091</td>\n",
       "    </tr>\n",
       "    <tr>\n",
       "      <th>320</th>\n",
       "      <td>168.342031</td>\n",
       "      <td>173.238375</td>\n",
       "      <td>167.660986</td>\n",
       "    </tr>\n",
       "    <tr>\n",
       "      <th>321</th>\n",
       "      <td>163.908745</td>\n",
       "      <td>173.238375</td>\n",
       "      <td>166.531378</td>\n",
       "    </tr>\n",
       "    <tr>\n",
       "      <th>322</th>\n",
       "      <td>165.565504</td>\n",
       "      <td>173.238375</td>\n",
       "      <td>168.184393</td>\n",
       "    </tr>\n",
       "    <tr>\n",
       "      <th>323</th>\n",
       "      <td>152.072384</td>\n",
       "      <td>150.625618</td>\n",
       "      <td>152.346455</td>\n",
       "    </tr>\n",
       "    <tr>\n",
       "      <th>324</th>\n",
       "      <td>151.196571</td>\n",
       "      <td>152.552997</td>\n",
       "      <td>152.320611</td>\n",
       "    </tr>\n",
       "    <tr>\n",
       "      <th>325</th>\n",
       "      <td>164.791592</td>\n",
       "      <td>173.238375</td>\n",
       "      <td>166.169930</td>\n",
       "    </tr>\n",
       "    <tr>\n",
       "      <th>326</th>\n",
       "      <td>165.611447</td>\n",
       "      <td>173.238375</td>\n",
       "      <td>168.376926</td>\n",
       "    </tr>\n",
       "    <tr>\n",
       "      <th>327</th>\n",
       "      <td>166.450092</td>\n",
       "      <td>173.238375</td>\n",
       "      <td>167.064682</td>\n",
       "    </tr>\n",
       "    <tr>\n",
       "      <th>328</th>\n",
       "      <td>168.421811</td>\n",
       "      <td>173.238375</td>\n",
       "      <td>168.616161</td>\n",
       "    </tr>\n",
       "    <tr>\n",
       "      <th>329</th>\n",
       "      <td>172.440984</td>\n",
       "      <td>192.579331</td>\n",
       "      <td>176.055162</td>\n",
       "    </tr>\n",
       "    <tr>\n",
       "      <th>330</th>\n",
       "      <td>154.323122</td>\n",
       "      <td>151.721290</td>\n",
       "      <td>152.492235</td>\n",
       "    </tr>\n",
       "    <tr>\n",
       "      <th>331</th>\n",
       "      <td>150.993321</td>\n",
       "      <td>161.121944</td>\n",
       "      <td>155.120404</td>\n",
       "    </tr>\n",
       "    <tr>\n",
       "      <th>332</th>\n",
       "      <td>167.554747</td>\n",
       "      <td>177.040481</td>\n",
       "      <td>175.647083</td>\n",
       "    </tr>\n",
       "    <tr>\n",
       "      <th>333</th>\n",
       "      <td>166.743065</td>\n",
       "      <td>173.238375</td>\n",
       "      <td>167.638375</td>\n",
       "    </tr>\n",
       "    <tr>\n",
       "      <th>334</th>\n",
       "      <td>173.678916</td>\n",
       "      <td>206.846963</td>\n",
       "      <td>197.985928</td>\n",
       "    </tr>\n",
       "  </tbody>\n",
       "</table>\n",
       "</div>"
      ],
      "text/plain": [
       "          Lasso  RandomForest  GradientBoostingRegressor\n",
       "305  181.981313    190.006777                 199.393284\n",
       "306  179.272627    172.103785                 194.709243\n",
       "307  170.757936    178.231753                 172.337522\n",
       "308  169.429396    167.008322                 171.229202\n",
       "309  162.142985    153.606409                 157.013830\n",
       "310  153.174273    152.552997                 153.062037\n",
       "311  164.039854    167.008322                 164.391569\n",
       "312  165.730552    167.008322                 167.199548\n",
       "313  165.378774    172.207759                 172.680510\n",
       "314  176.203202    172.105176                 188.772548\n",
       "315  182.279826    182.692694                 186.175625\n",
       "316  154.991375    151.721290                 157.221797\n",
       "317  151.324086    157.945607                 154.548717\n",
       "318  174.581732    218.103075                 185.692400\n",
       "319  171.357629    174.974766                 175.942091\n",
       "320  168.342031    173.238375                 167.660986\n",
       "321  163.908745    173.238375                 166.531378\n",
       "322  165.565504    173.238375                 168.184393\n",
       "323  152.072384    150.625618                 152.346455\n",
       "324  151.196571    152.552997                 152.320611\n",
       "325  164.791592    173.238375                 166.169930\n",
       "326  165.611447    173.238375                 168.376926\n",
       "327  166.450092    173.238375                 167.064682\n",
       "328  168.421811    173.238375                 168.616161\n",
       "329  172.440984    192.579331                 176.055162\n",
       "330  154.323122    151.721290                 152.492235\n",
       "331  150.993321    161.121944                 155.120404\n",
       "332  167.554747    177.040481                 175.647083\n",
       "333  166.743065    173.238375                 167.638375\n",
       "334  173.678916    206.846963                 197.985928"
      ]
     },
     "execution_count": 20,
     "metadata": {},
     "output_type": "execute_result"
    }
   ],
   "source": [
    "#predicted result of test dataset\n",
    "RES_TEST_PRED"
   ]
  },
  {
   "cell_type": "code",
   "execution_count": 21,
   "metadata": {
    "collapsed": false
   },
   "outputs": [
    {
     "data": {
      "text/html": [
       "<div>\n",
       "<style scoped>\n",
       "    .dataframe tbody tr th:only-of-type {\n",
       "        vertical-align: middle;\n",
       "    }\n",
       "\n",
       "    .dataframe tbody tr th {\n",
       "        vertical-align: top;\n",
       "    }\n",
       "\n",
       "    .dataframe thead th {\n",
       "        text-align: right;\n",
       "    }\n",
       "</style>\n",
       "<table border=\"1\" class=\"dataframe\">\n",
       "  <thead>\n",
       "    <tr style=\"text-align: right;\">\n",
       "      <th></th>\n",
       "      <th>Algorithm</th>\n",
       "      <th>Train_Test</th>\n",
       "      <th>RMSE</th>\n",
       "      <th>R2_Score</th>\n",
       "      <th>MAPE</th>\n",
       "    </tr>\n",
       "  </thead>\n",
       "  <tbody>\n",
       "    <tr>\n",
       "      <th>0</th>\n",
       "      <td>Lasso</td>\n",
       "      <td>train</td>\n",
       "      <td>13.975595</td>\n",
       "      <td>0.492909</td>\n",
       "      <td>0.058043</td>\n",
       "    </tr>\n",
       "    <tr>\n",
       "      <th>1</th>\n",
       "      <td>Lasso</td>\n",
       "      <td>test</td>\n",
       "      <td>18.170952</td>\n",
       "      <td>0.188809</td>\n",
       "      <td>0.060857</td>\n",
       "    </tr>\n",
       "    <tr>\n",
       "      <th>2</th>\n",
       "      <td>RandomForestRegressor</td>\n",
       "      <td>train</td>\n",
       "      <td>6.831870</td>\n",
       "      <td>0.878822</td>\n",
       "      <td>0.028234</td>\n",
       "    </tr>\n",
       "    <tr>\n",
       "      <th>3</th>\n",
       "      <td>RandomForestRegressor</td>\n",
       "      <td>test</td>\n",
       "      <td>18.376903</td>\n",
       "      <td>0.170317</td>\n",
       "      <td>0.067097</td>\n",
       "    </tr>\n",
       "    <tr>\n",
       "      <th>4</th>\n",
       "      <td>GradientBoostingRegressor</td>\n",
       "      <td>train</td>\n",
       "      <td>5.206888</td>\n",
       "      <td>0.929612</td>\n",
       "      <td>0.022571</td>\n",
       "    </tr>\n",
       "    <tr>\n",
       "      <th>5</th>\n",
       "      <td>GradientBoostingRegressor</td>\n",
       "      <td>test</td>\n",
       "      <td>17.322869</td>\n",
       "      <td>0.262762</td>\n",
       "      <td>0.065590</td>\n",
       "    </tr>\n",
       "  </tbody>\n",
       "</table>\n",
       "</div>"
      ],
      "text/plain": [
       "                    Algorithm Train_Test       RMSE  R2_Score      MAPE\n",
       "0                      Lasso       train  13.975595  0.492909  0.058043\n",
       "1                       Lasso       test  18.170952  0.188809  0.060857\n",
       "2      RandomForestRegressor       train   6.831870  0.878822  0.028234\n",
       "3       RandomForestRegressor       test  18.376903  0.170317  0.067097\n",
       "4  GradientBoostingRegressor       train   5.206888  0.929612  0.022571\n",
       "5   GradientBoostingRegressor       test  17.322869  0.262762  0.065590"
      ]
     },
     "execution_count": 21,
     "metadata": {},
     "output_type": "execute_result"
    }
   ],
   "source": [
    "#result evaluation for all 3 combinations on train and test\n",
    "RES_LOG"
   ]
  },
  {
   "cell_type": "code",
   "execution_count": 22,
   "metadata": {
    "collapsed": false
   },
   "outputs": [
    {
     "data": {
      "text/html": [
       "<div>\n",
       "<style scoped>\n",
       "    .dataframe tbody tr th:only-of-type {\n",
       "        vertical-align: middle;\n",
       "    }\n",
       "\n",
       "    .dataframe tbody tr th {\n",
       "        vertical-align: top;\n",
       "    }\n",
       "\n",
       "    .dataframe thead th {\n",
       "        text-align: right;\n",
       "    }\n",
       "</style>\n",
       "<table border=\"1\" class=\"dataframe\">\n",
       "  <thead>\n",
       "    <tr style=\"text-align: right;\">\n",
       "      <th></th>\n",
       "      <th>Algorithm</th>\n",
       "      <th>Train_Test</th>\n",
       "      <th>RMSE</th>\n",
       "      <th>R2_Score</th>\n",
       "      <th>MAPE</th>\n",
       "    </tr>\n",
       "  </thead>\n",
       "  <tbody>\n",
       "    <tr>\n",
       "      <th>4</th>\n",
       "      <td>GradientBoostingRegressor</td>\n",
       "      <td>train</td>\n",
       "      <td>5.206888</td>\n",
       "      <td>0.929612</td>\n",
       "      <td>0.022571</td>\n",
       "    </tr>\n",
       "    <tr>\n",
       "      <th>2</th>\n",
       "      <td>RandomForestRegressor</td>\n",
       "      <td>train</td>\n",
       "      <td>6.831870</td>\n",
       "      <td>0.878822</td>\n",
       "      <td>0.028234</td>\n",
       "    </tr>\n",
       "    <tr>\n",
       "      <th>0</th>\n",
       "      <td>Lasso</td>\n",
       "      <td>train</td>\n",
       "      <td>13.975595</td>\n",
       "      <td>0.492909</td>\n",
       "      <td>0.058043</td>\n",
       "    </tr>\n",
       "  </tbody>\n",
       "</table>\n",
       "</div>"
      ],
      "text/plain": [
       "                    Algorithm Train_Test       RMSE  R2_Score      MAPE\n",
       "4  GradientBoostingRegressor       train   5.206888  0.929612  0.022571\n",
       "2      RandomForestRegressor       train   6.831870  0.878822  0.028234\n",
       "0                      Lasso       train  13.975595  0.492909  0.058043"
      ]
     },
     "execution_count": 22,
     "metadata": {},
     "output_type": "execute_result"
    }
   ],
   "source": [
    "#result evaluation for all 3 combinations on train, sorted by RMSE\n",
    "RES_LOG[RES_LOG['Train_Test']=='train'].sort_values(by=['RMSE'])"
   ]
  },
  {
   "cell_type": "code",
   "execution_count": 23,
   "metadata": {
    "collapsed": false
   },
   "outputs": [
    {
     "data": {
      "text/html": [
       "<div>\n",
       "<style scoped>\n",
       "    .dataframe tbody tr th:only-of-type {\n",
       "        vertical-align: middle;\n",
       "    }\n",
       "\n",
       "    .dataframe tbody tr th {\n",
       "        vertical-align: top;\n",
       "    }\n",
       "\n",
       "    .dataframe thead th {\n",
       "        text-align: right;\n",
       "    }\n",
       "</style>\n",
       "<table border=\"1\" class=\"dataframe\">\n",
       "  <thead>\n",
       "    <tr style=\"text-align: right;\">\n",
       "      <th></th>\n",
       "      <th>Algorithm</th>\n",
       "      <th>Train_Test</th>\n",
       "      <th>RMSE</th>\n",
       "      <th>R2_Score</th>\n",
       "      <th>MAPE</th>\n",
       "    </tr>\n",
       "  </thead>\n",
       "  <tbody>\n",
       "    <tr>\n",
       "      <th>5</th>\n",
       "      <td>GradientBoostingRegressor</td>\n",
       "      <td>test</td>\n",
       "      <td>17.322869</td>\n",
       "      <td>0.262762</td>\n",
       "      <td>0.065590</td>\n",
       "    </tr>\n",
       "    <tr>\n",
       "      <th>1</th>\n",
       "      <td>Lasso</td>\n",
       "      <td>test</td>\n",
       "      <td>18.170952</td>\n",
       "      <td>0.188809</td>\n",
       "      <td>0.060857</td>\n",
       "    </tr>\n",
       "    <tr>\n",
       "      <th>3</th>\n",
       "      <td>RandomForestRegressor</td>\n",
       "      <td>test</td>\n",
       "      <td>18.376903</td>\n",
       "      <td>0.170317</td>\n",
       "      <td>0.067097</td>\n",
       "    </tr>\n",
       "  </tbody>\n",
       "</table>\n",
       "</div>"
      ],
      "text/plain": [
       "                   Algorithm Train_Test       RMSE  R2_Score      MAPE\n",
       "5  GradientBoostingRegressor       test  17.322869  0.262762  0.065590\n",
       "1                      Lasso       test  18.170952  0.188809  0.060857\n",
       "3      RandomForestRegressor       test  18.376903  0.170317  0.067097"
      ]
     },
     "execution_count": 23,
     "metadata": {},
     "output_type": "execute_result"
    }
   ],
   "source": [
    "#result evaluation for all 3 combinations on test, sorted by RMSE\n",
    "RES_LOG[RES_LOG['Train_Test']==' test'].sort_values(by=['RMSE'])"
   ]
  },
  {
   "cell_type": "markdown",
   "metadata": {},
   "source": [
    "\n",
    "### Draw predicted results on test data"
   ]
  },
  {
   "cell_type": "code",
   "execution_count": 24,
   "metadata": {
    "collapsed": false
   },
   "outputs": [
    {
     "name": "stdout",
     "output_type": "stream",
     "text": [
      "            Actual       Lasso  RandomForest  GradientBoostingRegressor\n",
      "Date                                                                   \n",
      "2016-11-01   175.0  181.981313    190.006777                 199.393284\n",
      "2016-11-02   165.0  179.272627    172.103785                 194.709243\n",
      "2016-11-03   210.0  170.757936    178.231753                 172.337522\n",
      "2016-11-04   167.0  169.429396    167.008322                 171.229202\n",
      "2016-11-05   193.0  162.142985    153.606409                 157.013830\n",
      "2016-11-06   144.0  153.174273    152.552997                 153.062037\n",
      "2016-11-07   175.0  164.039854    167.008322                 164.391569\n",
      "2016-11-08   160.0  165.730552    167.008322                 167.199548\n",
      "2016-11-09   160.0  165.378774    172.207759                 172.680510\n",
      "2016-11-10   183.0  176.203202    172.105176                 188.772548\n",
      "2016-11-11   256.0  182.279826    182.692694                 186.175625\n",
      "2016-11-12   171.0  154.991375    151.721290                 157.221797\n",
      "2016-11-13   157.0  151.324086    157.945607                 154.548717\n",
      "2016-11-14   163.0  174.581732    218.103075                 185.692400\n",
      "2016-11-15   172.0  171.357629    174.974766                 175.942091\n",
      "2016-11-16   179.0  168.342031    173.238375                 167.660986\n",
      "2016-11-17   164.0  163.908745    173.238375                 166.531378\n",
      "2016-11-18   163.0  165.565504    173.238375                 168.184393\n",
      "2016-11-19   154.0  152.072384    150.625618                 152.346455\n",
      "2016-11-20   162.0  151.196571    152.552997                 152.320611\n",
      "2016-11-21   163.0  164.791592    173.238375                 166.169930\n",
      "2016-11-22   165.0  165.611447    173.238375                 168.376926\n",
      "2016-11-23   167.0  166.450092    173.238375                 167.064682\n",
      "2016-11-24   171.0  168.421811    173.238375                 168.616161\n",
      "2016-11-25   193.0  172.440984    192.579331                 176.055162\n",
      "2016-11-26   152.0  154.323122    151.721290                 152.492235\n",
      "2016-11-27   155.0  150.993321    161.121944                 155.120404\n",
      "2016-11-28   181.0  167.554747    177.040481                 175.647083\n",
      "2016-11-29   173.0  166.743065    173.238375                 167.638375\n",
      "2016-11-30   230.0  173.678916    206.846963                 197.985928\n"
     ]
    },
    {
     "data": {
      "image/png": "[encoded data removed]",
      "text/plain": [
       "<Figure size 576x576 with 1 Axes>"
      ]
     },
     "metadata": {},
     "output_type": "display_data"
    }
   ],
   "source": [
    "#Draw prediction result of test dataset for all combinations\n",
    "def DrawResults(test,actual,dfRes,colors):\n",
    "    \n",
    "    DF = pd.DataFrame({'Actual':actual,'Date':test['DATE']})\n",
    "    \n",
    "    \n",
    "    for i in range(len(dfRes.columns)):\n",
    "        DF[dfRes.columns[i]]=dfRes[dfRes.columns[i]]       \n",
    "        \n",
    "    DF.index = DF['Date']\n",
    "    DF.drop('Date',axis=1,inplace=True)\n",
    "    \n",
    "    print(DF)\n",
    "    # Plot outputs\n",
    "    plt.figure(figsize=(8,8))\n",
    "    ax1 = plt.subplot(111)\n",
    "    ax1.plot(DF['Actual'], 'blue')\n",
    "    for i in range(len(dfRes.columns)):\n",
    "        ax1.plot(DF[dfRes.columns[i]],colors[i])\n",
    "                \n",
    "    ax1.legend()\n",
    "    ax1.set_xlabel('Date', fontsize = 16)\n",
    "    ax1.set_ylabel('Batch Minute', fontsize =16)\n",
    "    plt.xticks(rotation='vertical')\n",
    "\n",
    "    plt.show()\n",
    "    plt.clf()\n",
    "    plt.cla()\n",
    "    plt.close()\n",
    "    return\n",
    "\n",
    "DrawResults(WT_TEST,ORIGINAL_Y_TEST,RES_TEST_PRED,['purple','g','y'])\n"
   ]
  },
  {
   "cell_type": "markdown",
   "metadata": {},
   "source": [
    "## Step 5: Ensemble predicted results\n",
    "\n",
    "Apply 3 algorithms to predict result, consider linear and unlieaner characteristics of MBJ elapsed time we observed in Data Exploration.\n",
    "\n",
    "1. GradientBoosting\n",
    "2. LASSO\n",
    "3. Random Forest\n",
    "\n",
    "Get the __*mean()*__ of them as result output, use RMSE of training data as __*stderr*__ to calculate upper bound and lower bound\n",
    "\n"
   ]
  },
  {
   "cell_type": "code",
   "execution_count": 25,
   "metadata": {
    "collapsed": false
   },
   "outputs": [
    {
     "name": "stdout",
     "output_type": "stream",
     "text": [
      "Ensambled result\n",
      "================================================================================================\n",
      "\n",
      "Root Mean Squared Error: 19.77\n",
      "Variance score: 0.26\n",
      "            Actual   Predicted  Upper_Bound  Lower_Bound\n",
      "Date                                                    \n",
      "2016-11-01   175.0  190.460458   213.987570   166.933346\n",
      "2016-11-02   165.0  182.028551   205.555664   158.501439\n",
      "2016-11-03   210.0  173.775737   197.302849   150.248625\n",
      "2016-11-04   167.0  169.222307   192.749419   145.695194\n",
      "2016-11-05   193.0  157.587741   181.114854   134.060629\n",
      "2016-11-06   144.0  152.929769   176.456881   129.402657\n",
      "2016-11-07   175.0  165.146582   188.673694   141.619469\n",
      "2016-11-08   160.0  166.646141   190.173253   143.119028\n",
      "2016-11-09   160.0  170.089014   193.616127   146.561902\n",
      "2016-11-10   183.0  179.026975   202.554088   155.499863\n",
      "2016-11-11   256.0  183.716048   207.243160   160.188936\n",
      "2016-11-12   171.0  154.644820   178.171933   131.117708\n",
      "2016-11-13   157.0  154.606137   178.133249   131.079024\n",
      "2016-11-14   163.0  192.792402   216.319515   169.265290\n",
      "2016-11-15   172.0  174.091495   197.618608   150.564383\n",
      "2016-11-16   179.0  169.747131   193.274243   146.220018\n",
      "2016-11-17   164.0  167.892833   191.419945   144.365720\n",
      "2016-11-18   163.0  168.996090   192.523203   145.468978\n",
      "2016-11-19   154.0  151.681486   175.208598   128.154374\n",
      "2016-11-20   162.0  152.023393   175.550505   128.496281\n",
      "2016-11-21   163.0  168.066632   191.593744   144.539520\n",
      "2016-11-22   165.0  169.075583   192.602695   145.548470\n",
      "2016-11-23   167.0  168.917716   192.444829   145.390604\n",
      "2016-11-24   171.0  170.092116   193.619228   146.565003\n",
      "2016-11-25   193.0  180.358492   203.885605   156.831380\n",
      "2016-11-26   152.0  152.845549   176.372661   129.318437\n",
      "2016-11-27   155.0  155.745223   179.272336   132.218111\n",
      "2016-11-28   181.0  173.414104   196.941216   149.886991\n",
      "2016-11-29   173.0  169.206605   192.733717   145.679492\n",
      "2016-11-30   230.0  192.837269   216.364381   169.310156\n"
     ]
    },
    {
     "data": {
      "image/png": "[encoded data removed]",
      "text/plain": [
       "<Figure size 576x1296 with 2 Axes>"
      ]
     },
     "metadata": {},
     "output_type": "display_data"
    },
    {
     "name": "stdout",
     "output_type": "stream",
     "text": [
      "Ensambled result  MAPE=0.065\n"
     ]
    }
   ],
   "source": [
    "#Draw ensembled predicted result with upper bound and lower bound\n",
    "def EvalResultRange(algname,test,actual,predicted,std,times=3):\n",
    "    print(algname)\n",
    "    print('================================================================================================\\n')\n",
    "    print(\"Root Mean Squared Error: %.2f\" % np.sqrt(mean_squared_error(actual, predicted)))\n",
    "     # Explained variance score: 1 is perfect prediction\n",
    "    print('Variance score: %.2f' % r2_score(actual, predicted))\n",
    "    DF = pd.DataFrame({'Actual':actual,'Predicted':predicted,'Date':test['DATE'],\n",
    "                     'Upper_Bound':predicted+times*std,'Lower_Bound':predicted-times*std})\n",
    "    DF.index = DF['Date']\n",
    "    DF.drop('Date',axis=1,inplace=True)\n",
    "    DF['Lower_Bound'][DF['Lower_Bound']<0]=0\n",
    "    print(DF)\n",
    "    # Plot outputs\n",
    "    plt.figure(figsize=(8,18))\n",
    "    ax1 = plt.subplot(211)\n",
    "    ax1.plot(DF['Actual'], 'b')\n",
    "    ax1.plot(DF['Predicted'],'r')\n",
    "    ax1.plot(DF['Upper_Bound'],'r--')\n",
    "    ax1.plot(DF['Lower_Bound'],'r--')\n",
    "    ax1.set_ylim([100,280])\n",
    "    ax1.legend()\n",
    "    ax1.set_xlabel('Date', fontsize = 16)\n",
    "    ax1.set_ylabel('Batch Minute', fontsize =16)\n",
    "    plt.xticks(rotation='vertical')\n",
    "    \n",
    "    ax2 = plt.subplot(212)\n",
    "    ax2.set_xlim([0,280])\n",
    "    ax2.set_ylim([0,280])\n",
    "    ax2.scatter(actual, predicted,  color='black')\n",
    "    L = max(actual)\n",
    "    X = np.arange(0.0, L, 1)\n",
    "    ax2.plot(X,X,'r')\n",
    "    ax2.set_xlabel('Actual', fontsize = 16)\n",
    "    ax2.set_ylabel('Predicted', fontsize = 16)\n",
    "\n",
    "    plt.show()\n",
    "    plt.clf()\n",
    "    plt.cla()\n",
    "    plt.close()\n",
    "    print(algname,' MAPE=%.3f'% CalMape(actual,predicted))\n",
    "    return\n",
    "    \n",
    "\n",
    "from sklearn.metrics import mean_squared_error\n",
    "from math import sqrt\n",
    "RES_FINAL_TRAIN = pd.DataFrame()\n",
    "RES_FINAL_TRAIN['mean'] = RES_TRAIN_PRED.mean(axis=1)\n",
    "RMSE = sqrt(mean_squared_error(y_train, RES_FINAL_TRAIN['mean']))\n",
    "RES_FINAL_TEST = pd.DataFrame()\n",
    "RES_FINAL_TEST['mean'] = RES_TEST_PRED.mean(axis=1)\n",
    "RES_FINAL_TEST['std'] = RMSE\n",
    "EvalResultRange('Ensambled result',WT_TEST,ORIGINAL_Y_TEST,RES_FINAL_TEST['mean'],RES_FINAL_TEST['std'],3)\n"
   ]
  }
 ],
 "metadata": {
  "component": "zea125c6",
  "kernelspec": {
   "display_name": "imlpython3",
   "language": "python",
   "name": "imlpython3"
  },
  "language_info": {
   "codemirror_mode": {
    "name": "ipython",
    "version": 3
   },
   "file_extension": ".py",
   "mimetype": "text/x-python",
   "name": "python",
   "nbconvert_exporter": "python",
   "pygments_lexer": "ipython3",
   "version": "3.7.0"
  }
 },
 "nbformat": 4,
 "nbformat_minor": 1
}
